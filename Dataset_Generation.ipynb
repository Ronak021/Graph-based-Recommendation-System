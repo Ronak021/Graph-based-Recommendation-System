{
 "cells": [
  {
   "cell_type": "code",
   "execution_count": 1,
   "metadata": {},
   "outputs": [],
   "source": [
    "import csv\n",
    "from faker import Faker\n",
    "import random"
   ]
  },
  {
   "cell_type": "code",
   "execution_count": 2,
   "metadata": {},
   "outputs": [],
   "source": [
    "fake = Faker()"
   ]
  },
  {
   "cell_type": "code",
   "execution_count": 3,
   "metadata": {},
   "outputs": [],
   "source": [
    "categories = [\"Electronics\", \"Clothing\", \"Home & Furniture\", \"Grocery\", \"Sports\"]"
   ]
  },
  {
   "cell_type": "code",
   "execution_count": 4,
   "metadata": {},
   "outputs": [],
   "source": [
    "products = [\n",
    " {\"id\":\"A01\",\"name\": \"Mobile\", \"price\": 35000, \"category\": \"Electronics\"},\n",
    " {\"id\":\"A02\",\"name\": \"TV\", \"price\": 65000, \"category\": \"Electronics\"},\n",
    " {\"id\":\"A03\",\"name\": \"Headphone\", \"price\": 2000, \"category\": \"Electronics\"},\n",
    " {\"id\":\"A04\",\"name\": \"Laptop\", \"price\": 95000, \"category\": \"Electronics\"},\n",
    " {\"id\":\"A05\",\"name\": \"Watch\", \"price\": 1500, \"category\": \"Electronics\"},\n",
    " {\"id\":\"B01\",\"name\": \"Jeans\", \"price\": 999, \"category\": \"Clothing\"},\n",
    " {\"id\":\"B02\",\"name\": \"T-shirt\", \"price\": 799, \"category\": \"Clothing\"},\n",
    " {\"id\":\"B03\",\"name\": \"Kurta\", \"price\": 1999, \"category\": \"Clothing\"},\n",
    " {\"id\":\"B04\",\"name\": \"Saree\", \"price\": 2449, \"category\": \"Clothing\"},\n",
    " {\"id\":\"B05\",\"name\": \"Belt\", \"price\": 499, \"category\": \"Clothing\"},\n",
    " {\"id\":\"C01\",\"name\": \"Bedsheet\", \"price\": 1999, \"category\": \"Home & Furniture\"},\n",
    " {\"id\":\"C02\",\"name\": \"Mattres\", \"price\": 999, \"category\": \"Home & Furniture\"},\n",
    " {\"id\":\"C03\",\"name\": \"Chair\", \"price\": 899, \"category\": \"Home & Furniture\"},\n",
    " {\"id\":\"C04\",\"name\": \"Gas-stove\", \"price\": 599, \"category\": \"Home & Furniture\"},\n",
    " {\"id\":\"C05\",\"name\": \"Wall Clock\", \"price\": 999, \"category\": \"Home & Furniture\"},\n",
    " {\"id\":\"D01\",\"name\": \"Oil-Ghee\", \"price\": 499, \"category\": \"Grocery\"},\n",
    " {\"id\":\"D02\",\"name\": \"Detergent\", \"price\": 299, \"category\": \"Grocery\"},\n",
    " {\"id\":\"D03\",\"name\": \"Snacks\", \"price\": 199, \"category\": \"Grocery\"},\n",
    " {\"id\":\"D04\",\"name\": \"Salt\", \"price\": 199, \"category\": \"Grocery\"},\n",
    " {\"id\":\"D05\",\"name\": \"Atta\", \"price\": 699, \"category\": \"Grocery\"},\n",
    " {\"id\":\"E01\",\"name\": \"Tracker\", \"price\": 2999, \"category\": \"Sports\"},\n",
    " {\"id\":\"E02\",\"name\": \"Yoga-Mat\", \"price\": 1599, \"category\": \"Sports\"},\n",
    " {\"id\":\"E03\",\"name\": \"Jump-rope\", \"price\": 399, \"category\": \"Sports\"},\n",
    " {\"id\":\"E04\",\"name\": \"Band\", \"price\": 1499, \"category\": \"Sports\"},\n",
    " {\"id\":\"E05\",\"name\": \"Shoes\", \"price\": 2999, \"category\": \"Sports\"},\n",
    " ]"
   ]
  },
  {
   "cell_type": "code",
   "execution_count": 5,
   "metadata": {},
   "outputs": [],
   "source": [
    "# Define the users\n",
    "users = []\n",
    "for i in range(50):\n",
    "    name = fake.name()\n",
    " \n",
    "    email = name.lower().replace(\" \", \".\") + \"@example.com\"\n",
    "    users.append({\"id\": i+1,\"name\": name, \"email\": email})"
   ]
  },
  {
   "cell_type": "code",
   "execution_count": 6,
   "metadata": {},
   "outputs": [],
   "source": [
    "# Define the purchased, rated, and disrated relationships between users and products\n",
    "purchased = []\n",
    "rated = []\n",
    "disrated = []\n",
    "for user in users:\n",
    "    user_products = random.sample(products, random.randint(1, len(products)))\n",
    "    for product in user_products:\n",
    "        if random.random() < 0.6: # 60% chance of purchasing\n",
    "            purchased.append({\"user\": user[\"id\"], \"product\":\n",
    "            product[\"id\"]})\n",
    "        elif random.random() < 0.5: # 50% chance of liking\n",
    "            rated.append({\"user\": user[\"id\"], \"product\": product[\"id\"],\n",
    "            \"rating\":random.random()*5})"
   ]
  },
  {
   "cell_type": "code",
   "execution_count": 7,
   "metadata": {},
   "outputs": [],
   "source": [
    " # Write the data to CSV files\n",
    "with open(\"users.csv\", \"w\", newline=\"\") as csvfile:\n",
    "    fieldnames = [\"id\", \"name\", \"email\"]\n",
    "    writer = csv.DictWriter(csvfile, fieldnames=fieldnames)\n",
    "    writer.writeheader()\n",
    "    for i, user in enumerate(users):\n",
    "        writer.writerow({\n",
    "            \"id\": user[\"id\"], \"name\": user[\"name\"],\n",
    "            \"email\":user[\"email\"]\n",
    "        })"
   ]
  },
  {
   "cell_type": "code",
   "execution_count": 8,
   "metadata": {},
   "outputs": [],
   "source": [
    "with open(\"products.csv\", \"w\", newline=\"\") as csvfile:\n",
    "    fieldnames = [\"id\", \"name\", \"price\", \"category\"]\n",
    "    writer = csv.DictWriter(csvfile, fieldnames=fieldnames)\n",
    "    writer.writeheader()\n",
    "    for i, product in enumerate(products):\n",
    "        writer.writerow({\"id\": product[\"id\"], \"name\": product[\"name\"],\n",
    "        \"price\": product[\"price\"], \"category\": product[\"category\"]})"
   ]
  },
  {
   "cell_type": "code",
   "execution_count": 9,
   "metadata": {},
   "outputs": [],
   "source": [
    "with open(\"purchased.csv\", \"w\", newline=\"\") as csvfile:\n",
    "    fieldnames = [\"user\", \"product\"]\n",
    "    writer = csv.DictWriter(csvfile, fieldnames=fieldnames)\n",
    "    writer.writeheader()\n",
    "    for purchase in purchased:\n",
    "        writer.writerow({\"user\": purchase[\"user\"], \"product\": purchase[\"product\"]})"
   ]
  },
  {
   "cell_type": "code",
   "execution_count": 10,
   "metadata": {},
   "outputs": [],
   "source": [
    "with open(\"rated.csv\", \"w\", newline=\"\") as csvfile:\n",
    "    fieldnames = [\"user\", \"product\",\"rating\"]\n",
    "    writer = csv.DictWriter(csvfile, fieldnames=fieldnames)\n",
    "    writer.writeheader()\n",
    "    for rate in rated:\n",
    "        writer.writerow({\n",
    "        \"user\": rate[\"user\"],\n",
    "        \"product\": rate[\"product\"],\n",
    "        \"rating\":rate[\"rating\"]\n",
    "        })"
   ]
  }
 ],
 "metadata": {
  "kernelspec": {
   "display_name": "Python 3",
   "language": "python",
   "name": "python3"
  },
  "language_info": {
   "codemirror_mode": {
    "name": "ipython",
    "version": 3
   },
   "file_extension": ".py",
   "mimetype": "text/x-python",
   "name": "python",
   "nbconvert_exporter": "python",
   "pygments_lexer": "ipython3",
   "version": "3.11.1"
  }
 },
 "nbformat": 4,
 "nbformat_minor": 2
}
